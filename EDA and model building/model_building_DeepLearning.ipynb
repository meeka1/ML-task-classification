{
  "nbformat": 4,
  "nbformat_minor": 0,
  "metadata": {
    "colab": {
      "name": "model_building_DeepLearning.ipynb",
      "provenance": [],
      "collapsed_sections": []
    },
    "kernelspec": {
      "name": "python3",
      "display_name": "Python 3"
    },
    "language_info": {
      "name": "python"
    },
    "accelerator": "GPU",
    "gpuClass": "standard"
  },
  "cells": [
    {
      "cell_type": "markdown",
      "source": [
        "Model Building using Artificial Neural Network (ANN)"
      ],
      "metadata": {
        "id": "6wb7-nr0IQw1"
      }
    },
    {
      "cell_type": "code",
      "execution_count": 85,
      "metadata": {
        "id": "yDIZiJJgH8AY"
      },
      "outputs": [],
      "source": [
        "import pandas as pd\n",
        "import numpy as np\n",
        "import matplotlib.pyplot as plt"
      ]
    },
    {
      "cell_type": "code",
      "source": [
        "df = pd.read_csv('all_data_to_train.csv')\n",
        "df.head(2)"
      ],
      "metadata": {
        "colab": {
          "base_uri": "https://localhost:8080/",
          "height": 176
        },
        "id": "z_LNozExIkog",
        "outputId": "4715a9e5-1a90-4e2f-8613-3869cea11e92"
      },
      "execution_count": 86,
      "outputs": [
        {
          "output_type": "execute_result",
          "data": {
            "text/plain": [
              "   age  credit_sum  credit_month  tariff_id  score_shk  monthly_income  \\\n",
              "0   48     59998.0            10        1.6   0.770249           30000   \n",
              "1   28     10889.0             6        1.1   0.248514           43000   \n",
              "\n",
              "   credit_count  overdue_credit_count  marital_status  job_position  \\\n",
              "0             1                     1        0.153104      0.189224   \n",
              "1             2                     0        0.153104      0.189224   \n",
              "\n",
              "   living_region  education    gender  target  train_test  \n",
              "0       0.203165   0.139701  0.193810     0.0           1  \n",
              "1       0.232049   0.139701  0.159967     0.0           1  "
            ],
            "text/html": [
              "\n",
              "  <div id=\"df-c27daf2f-2b1e-4fb4-8403-06ddd383950d\">\n",
              "    <div class=\"colab-df-container\">\n",
              "      <div>\n",
              "<style scoped>\n",
              "    .dataframe tbody tr th:only-of-type {\n",
              "        vertical-align: middle;\n",
              "    }\n",
              "\n",
              "    .dataframe tbody tr th {\n",
              "        vertical-align: top;\n",
              "    }\n",
              "\n",
              "    .dataframe thead th {\n",
              "        text-align: right;\n",
              "    }\n",
              "</style>\n",
              "<table border=\"1\" class=\"dataframe\">\n",
              "  <thead>\n",
              "    <tr style=\"text-align: right;\">\n",
              "      <th></th>\n",
              "      <th>age</th>\n",
              "      <th>credit_sum</th>\n",
              "      <th>credit_month</th>\n",
              "      <th>tariff_id</th>\n",
              "      <th>score_shk</th>\n",
              "      <th>monthly_income</th>\n",
              "      <th>credit_count</th>\n",
              "      <th>overdue_credit_count</th>\n",
              "      <th>marital_status</th>\n",
              "      <th>job_position</th>\n",
              "      <th>living_region</th>\n",
              "      <th>education</th>\n",
              "      <th>gender</th>\n",
              "      <th>target</th>\n",
              "      <th>train_test</th>\n",
              "    </tr>\n",
              "  </thead>\n",
              "  <tbody>\n",
              "    <tr>\n",
              "      <th>0</th>\n",
              "      <td>48</td>\n",
              "      <td>59998.0</td>\n",
              "      <td>10</td>\n",
              "      <td>1.6</td>\n",
              "      <td>0.770249</td>\n",
              "      <td>30000</td>\n",
              "      <td>1</td>\n",
              "      <td>1</td>\n",
              "      <td>0.153104</td>\n",
              "      <td>0.189224</td>\n",
              "      <td>0.203165</td>\n",
              "      <td>0.139701</td>\n",
              "      <td>0.193810</td>\n",
              "      <td>0.0</td>\n",
              "      <td>1</td>\n",
              "    </tr>\n",
              "    <tr>\n",
              "      <th>1</th>\n",
              "      <td>28</td>\n",
              "      <td>10889.0</td>\n",
              "      <td>6</td>\n",
              "      <td>1.1</td>\n",
              "      <td>0.248514</td>\n",
              "      <td>43000</td>\n",
              "      <td>2</td>\n",
              "      <td>0</td>\n",
              "      <td>0.153104</td>\n",
              "      <td>0.189224</td>\n",
              "      <td>0.232049</td>\n",
              "      <td>0.139701</td>\n",
              "      <td>0.159967</td>\n",
              "      <td>0.0</td>\n",
              "      <td>1</td>\n",
              "    </tr>\n",
              "  </tbody>\n",
              "</table>\n",
              "</div>\n",
              "      <button class=\"colab-df-convert\" onclick=\"convertToInteractive('df-c27daf2f-2b1e-4fb4-8403-06ddd383950d')\"\n",
              "              title=\"Convert this dataframe to an interactive table.\"\n",
              "              style=\"display:none;\">\n",
              "        \n",
              "  <svg xmlns=\"http://www.w3.org/2000/svg\" height=\"24px\"viewBox=\"0 0 24 24\"\n",
              "       width=\"24px\">\n",
              "    <path d=\"M0 0h24v24H0V0z\" fill=\"none\"/>\n",
              "    <path d=\"M18.56 5.44l.94 2.06.94-2.06 2.06-.94-2.06-.94-.94-2.06-.94 2.06-2.06.94zm-11 1L8.5 8.5l.94-2.06 2.06-.94-2.06-.94L8.5 2.5l-.94 2.06-2.06.94zm10 10l.94 2.06.94-2.06 2.06-.94-2.06-.94-.94-2.06-.94 2.06-2.06.94z\"/><path d=\"M17.41 7.96l-1.37-1.37c-.4-.4-.92-.59-1.43-.59-.52 0-1.04.2-1.43.59L10.3 9.45l-7.72 7.72c-.78.78-.78 2.05 0 2.83L4 21.41c.39.39.9.59 1.41.59.51 0 1.02-.2 1.41-.59l7.78-7.78 2.81-2.81c.8-.78.8-2.07 0-2.86zM5.41 20L4 18.59l7.72-7.72 1.47 1.35L5.41 20z\"/>\n",
              "  </svg>\n",
              "      </button>\n",
              "      \n",
              "  <style>\n",
              "    .colab-df-container {\n",
              "      display:flex;\n",
              "      flex-wrap:wrap;\n",
              "      gap: 12px;\n",
              "    }\n",
              "\n",
              "    .colab-df-convert {\n",
              "      background-color: #E8F0FE;\n",
              "      border: none;\n",
              "      border-radius: 50%;\n",
              "      cursor: pointer;\n",
              "      display: none;\n",
              "      fill: #1967D2;\n",
              "      height: 32px;\n",
              "      padding: 0 0 0 0;\n",
              "      width: 32px;\n",
              "    }\n",
              "\n",
              "    .colab-df-convert:hover {\n",
              "      background-color: #E2EBFA;\n",
              "      box-shadow: 0px 1px 2px rgba(60, 64, 67, 0.3), 0px 1px 3px 1px rgba(60, 64, 67, 0.15);\n",
              "      fill: #174EA6;\n",
              "    }\n",
              "\n",
              "    [theme=dark] .colab-df-convert {\n",
              "      background-color: #3B4455;\n",
              "      fill: #D2E3FC;\n",
              "    }\n",
              "\n",
              "    [theme=dark] .colab-df-convert:hover {\n",
              "      background-color: #434B5C;\n",
              "      box-shadow: 0px 1px 3px 1px rgba(0, 0, 0, 0.15);\n",
              "      filter: drop-shadow(0px 1px 2px rgba(0, 0, 0, 0.3));\n",
              "      fill: #FFFFFF;\n",
              "    }\n",
              "  </style>\n",
              "\n",
              "      <script>\n",
              "        const buttonEl =\n",
              "          document.querySelector('#df-c27daf2f-2b1e-4fb4-8403-06ddd383950d button.colab-df-convert');\n",
              "        buttonEl.style.display =\n",
              "          google.colab.kernel.accessAllowed ? 'block' : 'none';\n",
              "\n",
              "        async function convertToInteractive(key) {\n",
              "          const element = document.querySelector('#df-c27daf2f-2b1e-4fb4-8403-06ddd383950d');\n",
              "          const dataTable =\n",
              "            await google.colab.kernel.invokeFunction('convertToInteractive',\n",
              "                                                     [key], {});\n",
              "          if (!dataTable) return;\n",
              "\n",
              "          const docLinkHtml = 'Like what you see? Visit the ' +\n",
              "            '<a target=\"_blank\" href=https://colab.research.google.com/notebooks/data_table.ipynb>data table notebook</a>'\n",
              "            + ' to learn more about interactive tables.';\n",
              "          element.innerHTML = '';\n",
              "          dataTable['output_type'] = 'display_data';\n",
              "          await google.colab.output.renderOutput(dataTable, element);\n",
              "          const docLink = document.createElement('div');\n",
              "          docLink.innerHTML = docLinkHtml;\n",
              "          element.appendChild(docLink);\n",
              "        }\n",
              "      </script>\n",
              "    </div>\n",
              "  </div>\n",
              "  "
            ]
          },
          "metadata": {},
          "execution_count": 86
        }
      ]
    },
    {
      "cell_type": "code",
      "source": [
        "X_train_unscaled = df[df.train_test == 1].drop(['train_test'], axis =1)\n",
        "X_test_unscaled = df[df.train_test == 0].drop(['train_test'], axis =1)\n",
        "X_train_unscaled = X_train_unscaled.drop('target', axis=1)\n",
        "X_test_unscaled = X_test_unscaled.drop('target', axis=1)\n",
        "\n",
        "y_train_unscaled = df[df.train_test==1].target"
      ],
      "metadata": {
        "id": "lhxO3zkElz_Q"
      },
      "execution_count": 87,
      "outputs": []
    },
    {
      "cell_type": "code",
      "source": [
        "# Splitting the dataset into the Training set and Test set\n",
        "from sklearn.model_selection import train_test_split\n",
        "X_train, X_test, y_train, y_test = train_test_split(X_train_unscaled, y_train_unscaled, test_size = 0.15, random_state = 0)"
      ],
      "metadata": {
        "id": "D_0gu4gkl28Q"
      },
      "execution_count": 88,
      "outputs": []
    },
    {
      "cell_type": "code",
      "source": [
        "# Feature Scaling\n",
        "from sklearn.preprocessing import StandardScaler\n",
        "\n",
        "sc = StandardScaler()\n",
        "X_train = sc.fit_transform(X_train)\n",
        "X_test = sc.transform(X_test)"
      ],
      "metadata": {
        "id": "aHBhmDHzp50q"
      },
      "execution_count": 89,
      "outputs": []
    },
    {
      "cell_type": "code",
      "source": [
        "# Importing the Keras libraries and packages\n",
        "import keras\n",
        "from keras.models import Sequential\n",
        "from keras.layers import Dense"
      ],
      "metadata": {
        "id": "aiB7JA5omHDp"
      },
      "execution_count": 90,
      "outputs": []
    },
    {
      "cell_type": "code",
      "source": [
        "# Initializing the ANN\n",
        "classifier2 = Sequential()"
      ],
      "metadata": {
        "id": "glm5wbMy8ii0"
      },
      "execution_count": 114,
      "outputs": []
    },
    {
      "cell_type": "markdown",
      "source": [
        "Parameters specified:\n",
        "- units = 1 output should have 1 neuron\n",
        "- tanh activation function - for non-linear range(0,1) variables. sigmoid is also option but it converges to 0 mostly\n",
        "- loss = binary_crossentropy because answer is binary\n",
        "- uniform kernel initializer - means weights are initialized uniformly between 0 and 1\n",
        "- adamax optimizer - good for reducing cost function => good classification"
      ],
      "metadata": {
        "id": "s-1CxonAD2C_"
      }
    },
    {
      "cell_type": "code",
      "source": [
        "# Adding the input layer and the first hidden layer\n",
        "classifier2.add(Dense(activation=\"relu\", input_dim=13, units=8, kernel_initializer=\"uniform\"))"
      ],
      "metadata": {
        "id": "x6SVBo558jBx"
      },
      "execution_count": 115,
      "outputs": []
    },
    {
      "cell_type": "code",
      "source": [
        "# Adding the input layer and the second hidden layer\n",
        "classifier2.add(Dense(activation=\"relu\", units=7, kernel_initializer=\"uniform\"))"
      ],
      "metadata": {
        "id": "qlLsmL6P8qdL"
      },
      "execution_count": 116,
      "outputs": []
    },
    {
      "cell_type": "code",
      "source": [
        "# Adding the input layer and the third hidden layer\n",
        "classifier2.add(Dense(activation=\"relu\", units=5, kernel_initializer=\"uniform\"))"
      ],
      "metadata": {
        "id": "_QxRMAXa8sx4"
      },
      "execution_count": 117,
      "outputs": []
    },
    {
      "cell_type": "code",
      "source": [
        "# Adding the output layer\n",
        "classifier2.add(Dense(activation=\"tanh\", units=1, kernel_initializer=\"uniform\")) "
      ],
      "metadata": {
        "id": "z7TJL3O28tbv"
      },
      "execution_count": 118,
      "outputs": []
    },
    {
      "cell_type": "code",
      "source": [
        "# Compiling the ANN\n",
        "classifier2.compile(optimizer = 'adamax', loss = 'binary_crossentropy', metrics = ['accuracy'])"
      ],
      "metadata": {
        "id": "1kR0xWHF8xdy"
      },
      "execution_count": 119,
      "outputs": []
    },
    {
      "cell_type": "code",
      "source": [
        "# Fitting the ANN to the Training set\n",
        "classifier2.fit(X_train, y_train, batch_size = 16, epochs = 20)"
      ],
      "metadata": {
        "colab": {
          "base_uri": "https://localhost:8080/"
        },
        "id": "G8bl5ynp8z0y",
        "outputId": "70e2e92e-1868-49c1-932f-516fb3b44962"
      },
      "execution_count": 120,
      "outputs": [
        {
          "output_type": "stream",
          "name": "stdout",
          "text": [
            "Epoch 1/20\n",
            "9061/9061 [==============================] - 26s 3ms/step - loss: 0.4685 - accuracy: 0.8235\n",
            "Epoch 2/20\n",
            "9061/9061 [==============================] - 25s 3ms/step - loss: 0.4381 - accuracy: 0.8237\n",
            "Epoch 3/20\n",
            "9061/9061 [==============================] - 25s 3ms/step - loss: 0.4365 - accuracy: 0.8238\n",
            "Epoch 4/20\n",
            "9061/9061 [==============================] - 25s 3ms/step - loss: 0.4353 - accuracy: 0.8239\n",
            "Epoch 5/20\n",
            "9061/9061 [==============================] - 25s 3ms/step - loss: 0.4313 - accuracy: 0.8242\n",
            "Epoch 6/20\n",
            "9061/9061 [==============================] - 25s 3ms/step - loss: 0.4224 - accuracy: 0.8243\n",
            "Epoch 7/20\n",
            "9061/9061 [==============================] - 25s 3ms/step - loss: 0.4176 - accuracy: 0.8249\n",
            "Epoch 8/20\n",
            "9061/9061 [==============================] - 25s 3ms/step - loss: 0.4152 - accuracy: 0.8251\n",
            "Epoch 9/20\n",
            "9061/9061 [==============================] - 25s 3ms/step - loss: 0.4139 - accuracy: 0.8252\n",
            "Epoch 10/20\n",
            "9061/9061 [==============================] - 25s 3ms/step - loss: 0.4132 - accuracy: 0.8256\n",
            "Epoch 11/20\n",
            "9061/9061 [==============================] - 25s 3ms/step - loss: 0.4128 - accuracy: 0.8257\n",
            "Epoch 12/20\n",
            "9061/9061 [==============================] - 25s 3ms/step - loss: 0.4125 - accuracy: 0.8257\n",
            "Epoch 13/20\n",
            "9061/9061 [==============================] - 25s 3ms/step - loss: 0.4120 - accuracy: 0.8258\n",
            "Epoch 14/20\n",
            "9061/9061 [==============================] - 25s 3ms/step - loss: 0.4117 - accuracy: 0.8262\n",
            "Epoch 15/20\n",
            "9061/9061 [==============================] - 25s 3ms/step - loss: 0.4115 - accuracy: 0.8259\n",
            "Epoch 16/20\n",
            "9061/9061 [==============================] - 25s 3ms/step - loss: 0.4110 - accuracy: 0.8265\n",
            "Epoch 17/20\n",
            "9061/9061 [==============================] - 25s 3ms/step - loss: 0.4106 - accuracy: 0.8261\n",
            "Epoch 18/20\n",
            "9061/9061 [==============================] - 25s 3ms/step - loss: 0.4104 - accuracy: 0.8264\n",
            "Epoch 19/20\n",
            "9061/9061 [==============================] - 25s 3ms/step - loss: 0.4102 - accuracy: 0.8261\n",
            "Epoch 20/20\n",
            "9061/9061 [==============================] - 25s 3ms/step - loss: 0.4100 - accuracy: 0.8259\n"
          ]
        },
        {
          "output_type": "execute_result",
          "data": {
            "text/plain": [
              "<keras.callbacks.History at 0x7f75701bfb50>"
            ]
          },
          "metadata": {},
          "execution_count": 120
        }
      ]
    },
    {
      "cell_type": "code",
      "source": [
        "classifier2.predict([[54,24990,12,1.1,0.41,40000,6,0,0.21,0.189,0.17,0.14,0.159]])"
      ],
      "metadata": {
        "colab": {
          "base_uri": "https://localhost:8080/"
        },
        "id": "Z4IrYWjWALw6",
        "outputId": "90821dfc-0b2e-4744-e989-4d15983fb642"
      },
      "execution_count": 121,
      "outputs": [
        {
          "output_type": "execute_result",
          "data": {
            "text/plain": [
              "array([[1.]], dtype=float32)"
            ]
          },
          "metadata": {},
          "execution_count": 121
        }
      ]
    },
    {
      "cell_type": "code",
      "source": [
        "y_pred = classifier2.predict(X_test)\n",
        "y_pred_rounded = np.round(y_pred)"
      ],
      "metadata": {
        "id": "3J-Tn9leA-yP"
      },
      "execution_count": 127,
      "outputs": []
    },
    {
      "cell_type": "code",
      "source": [
        "from sklearn.metrics import confusion_matrix,accuracy_score\n",
        "cm = confusion_matrix(y_test, y_pred_rounded)\n",
        "accuracy=accuracy_score(y_test,y_pred_rounded)"
      ],
      "metadata": {
        "id": "xn4KgM8IA0B3"
      },
      "execution_count": 129,
      "outputs": []
    },
    {
      "cell_type": "code",
      "source": [
        "accuracy"
      ],
      "metadata": {
        "colab": {
          "base_uri": "https://localhost:8080/"
        },
        "id": "715_0jd6BWw1",
        "outputId": "2e722436-a144-4066-9f4e-7052c4df9fb5"
      },
      "execution_count": 130,
      "outputs": [
        {
          "output_type": "execute_result",
          "data": {
            "text/plain": [
              "0.8299261228159325"
            ]
          },
          "metadata": {},
          "execution_count": 130
        }
      ]
    },
    {
      "cell_type": "code",
      "source": [
        "cm"
      ],
      "metadata": {
        "colab": {
          "base_uri": "https://localhost:8080/"
        },
        "id": "XJWAvp8NBae1",
        "outputId": "26365999-35db-4825-be5c-bd0a8fd7908c"
      },
      "execution_count": 131,
      "outputs": [
        {
          "output_type": "execute_result",
          "data": {
            "text/plain": [
              "array([[20940,   209],\n",
              "       [ 4142,   292]])"
            ]
          },
          "metadata": {},
          "execution_count": 131
        }
      ]
    },
    {
      "cell_type": "code",
      "source": [
        "import seaborn as sns"
      ],
      "metadata": {
        "id": "EO3iIagXBbgA"
      },
      "execution_count": 132,
      "outputs": []
    },
    {
      "cell_type": "code",
      "source": [
        "ax = sns.heatmap(cm, annot=True, fmt='')\n",
        "\n",
        "ax.set_title('Seaborn Confusion Matrix with labels\\n\\n');\n",
        "ax.set_xlabel('\\nPredicted Values')\n",
        "ax.set_ylabel('Actual Values ');\n",
        "\n",
        "## Ticket labels - List must be in alphabetical order\n",
        "ax.xaxis.set_ticklabels(['False','True'])\n",
        "ax.yaxis.set_ticklabels(['False','True'])\n",
        "\n",
        "## Display the visualization of the Confusion Matrix.\n",
        "plt.show()"
      ],
      "metadata": {
        "colab": {
          "base_uri": "https://localhost:8080/",
          "height": 337
        },
        "id": "gV59fgkPB0Ux",
        "outputId": "64686e0f-b1c1-426c-8865-2b1de46d63a8"
      },
      "execution_count": 133,
      "outputs": [
        {
          "output_type": "display_data",
          "data": {
            "text/plain": [
              "<Figure size 432x288 with 2 Axes>"
            ],
            "image/png": "[encoded data removed]"
          },
          "metadata": {
            "needs_background": "light"
          }
        }
      ]
    },
    {
      "cell_type": "code",
      "source": [
        "import pickle\n",
        "\n",
        "with open('ANN_model2.pkl', 'wb') as f:\n",
        "  pickle.dump(classifier2, f)"
      ],
      "metadata": {
        "colab": {
          "base_uri": "https://localhost:8080/"
        },
        "id": "7AXPcxbrEcnY",
        "outputId": "f1bd4ce6-f169-4645-cc6d-a5d019ed2fd2"
      },
      "execution_count": 134,
      "outputs": [
        {
          "output_type": "stream",
          "name": "stdout",
          "text": [
            "INFO:tensorflow:Assets written to: ram://86f11411-fcc6-487e-bf70-23a79c3315d7/assets\n"
          ]
        }
      ]
    },
    {
      "cell_type": "code",
      "source": [
        ""
      ],
      "metadata": {
        "id": "fQC4bvnhEuYt"
      },
      "execution_count": null,
      "outputs": []
    }
  ]
}